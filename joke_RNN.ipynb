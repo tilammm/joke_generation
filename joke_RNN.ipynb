{
  "nbformat": 4,
  "nbformat_minor": 0,
  "metadata": {
    "colab": {
      "name": "joke_RNN.ipynb",
      "provenance": []
    },
    "kernelspec": {
      "name": "python3",
      "display_name": "Python 3"
    }
  },
  "cells": [
    {
      "cell_type": "code",
      "metadata": {
        "id": "mwt_t28AjzRl"
      },
      "source": [
        "import json\n",
        "import string\n",
        "\n",
        "def json_to_txt(json_file):\n",
        "  lines = []\n",
        "  with open(json_file, \"r\") as read_file:\n",
        "    data = json.load(read_file)\n",
        "    for i in range(len(data)):\n",
        "        line = (data[i]['title'] + ' ' + data[i]['body']).replace(\"\\n\", \" \")\n",
        "        lines.append(line)\n",
        "  new_file = \"cleaned_\" + json_file + \"_.txt\"\n",
        "  with open(new_file, \"w\") as write_file:\n",
        "    for line in lines:\n",
        "      write_file.write(line + \"\\t\")\n",
        "    write_file.close()\n",
        "  return new_file"
      ],
      "execution_count": 59,
      "outputs": []
    },
    {
      "cell_type": "code",
      "metadata": {
        "id": "WAEwucGXkJHw"
      },
      "source": [
        "import random\n",
        "\n",
        "def line_filter(txt_file, max_len=50, sample_size=10000):\n",
        "  new_lines = []\n",
        "  with open(txt_file, \"r\") as read_file:\n",
        "    lines = read_file.read().split(\"\\t\")\n",
        "    new_lines = [\"<sos> \" + line.lower() + \" <eos>\" for line in lines if len(line.split(' ')) <= max_len ]\n",
        "  return random.sample(new_lines, min(sample_size, len(new_lines)))"
      ],
      "execution_count": 60,
      "outputs": []
    },
    {
      "cell_type": "code",
      "metadata": {
        "id": "8UIeFQillCWD"
      },
      "source": [
        "# turn a doc into clean tokens\n",
        "def clean_doc(doc):\n",
        "\t# replace '--' with a space ' '\n",
        "\tdoc = doc.replace('--', ' ')\n",
        "\t# split into tokens by white space\n",
        "\ttokens = doc.split()\n",
        "\t# remove punctuation from each token\n",
        "\ttable = str.maketrans('', '', string.punctuation)\n",
        "\ttokens = [w.translate(table) for w in tokens]\n",
        "\t# remove remaining tokens that are not alphabetic\n",
        "\ttokens = [word for word in tokens if word.isalpha()]\n",
        "\t# make lower case\n",
        "\ttokens = [word.lower() for word in tokens]\n",
        "\treturn tokens"
      ],
      "execution_count": 61,
      "outputs": []
    },
    {
      "cell_type": "code",
      "metadata": {
        "id": "jJMhrCWXlDgF"
      },
      "source": [
        "filename = json_to_txt(\"reddit_jokes.json\")"
      ],
      "execution_count": 62,
      "outputs": []
    },
    {
      "cell_type": "code",
      "metadata": {
        "colab": {
          "base_uri": "https://localhost:8080/"
        },
        "id": "6qxrNWaRnMhN",
        "outputId": "8c01b5e9-f341-4bee-e28a-182595480909"
      },
      "source": [
        "jokes = line_filter(filename)\n",
        "print(jokes[10])"
      ],
      "execution_count": 63,
      "outputs": [
        {
          "output_type": "stream",
          "text": [
            "<sos> i lost two things today... job in a morgue   . . . . . . . . . . .         and virginity <eos>\n"
          ],
          "name": "stdout"
        }
      ]
    },
    {
      "cell_type": "code",
      "metadata": {
        "colab": {
          "base_uri": "https://localhost:8080/"
        },
        "id": "9UzLliNbooYo",
        "outputId": "0e9cd4d3-3c1f-411b-eaaf-c516db3b2cac"
      },
      "source": [
        "print(len(jokes))"
      ],
      "execution_count": 64,
      "outputs": [
        {
          "output_type": "stream",
          "text": [
            "10000\n"
          ],
          "name": "stdout"
        }
      ]
    },
    {
      "cell_type": "code",
      "metadata": {
        "colab": {
          "base_uri": "https://localhost:8080/"
        },
        "id": "N815PAC0oq6O",
        "outputId": "11fe9728-9591-4526-e4ad-2f021560b87f"
      },
      "source": [
        "tokens = clean_doc('\\n'.join(jokes))\n",
        "print(tokens[:200])\n",
        "print('Total Tokens: %d' % len(tokens))\n",
        "print('Unique Tokens: %d' % len(set(tokens)))"
      ],
      "execution_count": 65,
      "outputs": [
        {
          "output_type": "stream",
          "text": [
            "['sos', 'my', 'exgirlfriend', 'bent', 'my', 'cars', 'hoodbut', 'it', 'was', 'my', 'fault', 'a', 'little', 'bit', 'too', 'i', 'was', 'just', 'a', 'little', 'bit', 'over', 'the', 'legal', 'speed', 'eos', 'sos', 'company', 'suspends', 'sponsorship', 'deal', 'with', 'sharapova', 'after', 'she', 'failed', 'drug', 'test', 'to', 'protect', 'volkswagens', 'excellent', 'brand', 'image', 'they', 'cant', 'affiliate', 'with', 'people', 'who', 'might', 'have', 'cheated', 'eos', 'sos', 'they', 'say', 'out', 'of', 'people', 'text', 'and', 'drive', 'not', 'me', 'i', 'watch', 'youtube', 'videos', 'eos', 'sos', 'pinocchio', 'how', 'did', 'pinocchio', 'find', 'out', 'he', 'had', 'a', 'wooden', 'dick', 'his', 'hand', 'caught', 'on', 'fire', 'eos', 'sos', 'i', 'came', 'up', 'with', 'a', 'suspenseful', 'joke', 'about', 'cheese', 'queso', 'here', 'it', 'goes', 'eos', 'sos', 'whats', 'the', 'best', 'part', 'about', 'twentythree', 'year', 'olds', 'theres', 'twenty', 'of', 'them', 'eos', 'sos', 'what', 'happens', 'when', 'you', 'get', 'too', 'much', 'sun', 'exposure', 'in', 'switzerland', 'you', 'get', 'a', 'sun', 'bern', 'eos', 'sos', 'whats', 'a', 'questionable', 'hole', 'blocker', 'a', 'butt', 'plug', 'but', 'why', 'you', 'ask', 'eos', 'sos', 'congratulations', 'amy', 'winehouse', 'on', 'three', 'years', 'of', 'sobriety', 'eos', 'sos', 'two', 'stutterers', 'went', 'to', 'order', 'food', 'they', 'didnt', 'eos', 'sos', 'i', 'lost', 'two', 'things', 'today', 'job', 'in', 'a', 'morgue', 'and', 'virginity', 'eos', 'sos', 'i', 'built', 'a', 'castle', 'but', 'it', 'turned', 'out', 'bad', 'i', 'guess', 'i', 'didnt', 'put', 'in', 'much', 'effort']\n",
            "Total Tokens: 193854\n",
            "Unique Tokens: 14706\n"
          ],
          "name": "stdout"
        }
      ]
    },
    {
      "cell_type": "code",
      "metadata": {
        "colab": {
          "base_uri": "https://localhost:8080/"
        },
        "id": "RVMpZo0BpVSE",
        "outputId": "a8bde3c0-2789-41ac-fba0-6d016927b892"
      },
      "source": [
        "# organize into sequences of tokens\n",
        "length = 10 + 1\n",
        "sequences = list()\n",
        "for i in range(length, len(tokens)):\n",
        "\t# select sequence of tokens\n",
        "\tseq = tokens[i-length:i]\n",
        "\t# convert into a line\n",
        "\tline = ' '.join(seq)\n",
        "\t# store\n",
        "\tsequences.append(line)\n",
        "print('Total Sequences: %d' % len(sequences))"
      ],
      "execution_count": 66,
      "outputs": [
        {
          "output_type": "stream",
          "text": [
            "Total Sequences: 193843\n"
          ],
          "name": "stdout"
        }
      ]
    },
    {
      "cell_type": "code",
      "metadata": {
        "id": "kDce_WAyqEOZ"
      },
      "source": [
        "# save tokens to file, one dialog per line\n",
        "def save_doc(lines, filename):\n",
        "\tdata = '\\n'.join(lines)\n",
        "\tfile = open(filename, 'w')\n",
        "\tfile.write(data)\n",
        "\tfile.close()"
      ],
      "execution_count": 67,
      "outputs": []
    },
    {
      "cell_type": "code",
      "metadata": {
        "id": "30NQvVT3qIvh"
      },
      "source": [
        "# save sequences to file\n",
        "out_filename = 'joke_sequences.txt'\n",
        "save_doc(sequences, out_filename)"
      ],
      "execution_count": 68,
      "outputs": []
    },
    {
      "cell_type": "code",
      "metadata": {
        "id": "IHZegD3TqQqQ"
      },
      "source": [
        "# load doc into memory\n",
        "def load_doc(filename):\n",
        "\t# open the file as read only\n",
        "\tfile = open(filename, 'r')\n",
        "\t# read all text\n",
        "\ttext = file.read()\n",
        "\t# close the file\n",
        "\tfile.close()\n",
        "\treturn text\n",
        " \n",
        "# load\n",
        "in_filename = 'joke_sequences.txt'\n",
        "doc = load_doc(in_filename)\n",
        "lines = doc.split('\\n')"
      ],
      "execution_count": 69,
      "outputs": []
    },
    {
      "cell_type": "code",
      "metadata": {
        "id": "sJ1hWYmAqnxH"
      },
      "source": [
        "from numpy import array\n",
        "from pickle import dump\n",
        "from keras.preprocessing.text import Tokenizer\n",
        "from keras.utils import to_categorical\n",
        "from keras.models import Sequential\n",
        "from keras.layers import Dense\n",
        "from keras.layers import LSTM\n",
        "from keras.layers import Embedding"
      ],
      "execution_count": 70,
      "outputs": []
    },
    {
      "cell_type": "code",
      "metadata": {
        "id": "roUN_KnUqdKL"
      },
      "source": [
        "# integer encode sequences of words\n",
        "tokenizer = Tokenizer()\n",
        "tokenizer.fit_on_texts(lines)\n",
        "sequences = tokenizer.texts_to_sequences(lines)"
      ],
      "execution_count": 71,
      "outputs": []
    },
    {
      "cell_type": "code",
      "metadata": {
        "id": "OZGzOYqKqss9"
      },
      "source": [
        "# vocabulary size\n",
        "vocab_size = len(tokenizer.word_index) + 1"
      ],
      "execution_count": 72,
      "outputs": []
    },
    {
      "cell_type": "code",
      "metadata": {
        "id": "pXJCxajgqvlY"
      },
      "source": [
        "# separate into input and output\n",
        "sequences = array(sequences)\n",
        "X, y = sequences[:,:-1], sequences[:,-1]\n",
        "y = to_categorical(y, num_classes=vocab_size)\n",
        "seq_length = X.shape[1]"
      ],
      "execution_count": 73,
      "outputs": []
    },
    {
      "cell_type": "code",
      "metadata": {
        "colab": {
          "base_uri": "https://localhost:8080/"
        },
        "id": "zXtOgmLDqyaO",
        "outputId": "8266e82f-e24e-4a07-85f2-0fea5cc305d6"
      },
      "source": [
        "# define model\n",
        "model = Sequential()\n",
        "model.add(Embedding(vocab_size, 50, input_length=seq_length))\n",
        "model.add(LSTM(100, return_sequences=True))\n",
        "model.add(LSTM(100))\n",
        "model.add(Dense(100, activation='relu'))\n",
        "model.add(Dense(vocab_size, activation='softmax'))\n",
        "print(model.summary())"
      ],
      "execution_count": 74,
      "outputs": [
        {
          "output_type": "stream",
          "text": [
            "Model: \"sequential_1\"\n",
            "_________________________________________________________________\n",
            "Layer (type)                 Output Shape              Param #   \n",
            "=================================================================\n",
            "embedding_1 (Embedding)      (None, 10, 50)            735350    \n",
            "_________________________________________________________________\n",
            "lstm_2 (LSTM)                (None, 10, 100)           60400     \n",
            "_________________________________________________________________\n",
            "lstm_3 (LSTM)                (None, 100)               80400     \n",
            "_________________________________________________________________\n",
            "dense_2 (Dense)              (None, 100)               10100     \n",
            "_________________________________________________________________\n",
            "dense_3 (Dense)              (None, 14707)             1485407   \n",
            "=================================================================\n",
            "Total params: 2,371,657\n",
            "Trainable params: 2,371,657\n",
            "Non-trainable params: 0\n",
            "_________________________________________________________________\n",
            "None\n"
          ],
          "name": "stdout"
        }
      ]
    },
    {
      "cell_type": "code",
      "metadata": {
        "colab": {
          "base_uri": "https://localhost:8080/"
        },
        "id": "qVCtK6Qqq20q",
        "outputId": "63f3b0b5-3458-4a4d-d747-95d02c3455df"
      },
      "source": [
        "# compile model\n",
        "model.compile(loss='categorical_crossentropy', optimizer='adam', metrics=['accuracy'])\n",
        "# fit model\n",
        "model.fit(X, y, batch_size=128, epochs=50)"
      ],
      "execution_count": 76,
      "outputs": [
        {
          "output_type": "stream",
          "text": [
            "Epoch 1/50\n",
            "1515/1515 [==============================] - 187s 121ms/step - loss: 6.4188 - accuracy: 0.1007\n",
            "Epoch 2/50\n",
            "1515/1515 [==============================] - 172s 113ms/step - loss: 5.6966 - accuracy: 0.1788\n",
            "Epoch 3/50\n",
            "1515/1515 [==============================] - 173s 114ms/step - loss: 5.3821 - accuracy: 0.1981\n",
            "Epoch 4/50\n",
            "1515/1515 [==============================] - 174s 115ms/step - loss: 5.1632 - accuracy: 0.2120\n",
            "Epoch 5/50\n",
            "1515/1515 [==============================] - 177s 117ms/step - loss: 4.9928 - accuracy: 0.2243\n",
            "Epoch 6/50\n",
            "1515/1515 [==============================] - 174s 115ms/step - loss: 4.8444 - accuracy: 0.2315\n",
            "Epoch 7/50\n",
            "1515/1515 [==============================] - 174s 115ms/step - loss: 4.7083 - accuracy: 0.2373\n",
            "Epoch 8/50\n",
            "1515/1515 [==============================] - 175s 115ms/step - loss: 4.5742 - accuracy: 0.2446\n",
            "Epoch 9/50\n",
            "1515/1515 [==============================] - 174s 115ms/step - loss: 4.4511 - accuracy: 0.2497\n",
            "Epoch 10/50\n",
            "1515/1515 [==============================] - 174s 115ms/step - loss: 4.3394 - accuracy: 0.2550\n",
            "Epoch 11/50\n",
            "1515/1515 [==============================] - 178s 117ms/step - loss: 4.2316 - accuracy: 0.2597\n",
            "Epoch 12/50\n",
            "1515/1515 [==============================] - 174s 115ms/step - loss: 4.1121 - accuracy: 0.2672\n",
            "Epoch 13/50\n",
            "1515/1515 [==============================] - 174s 115ms/step - loss: 4.0116 - accuracy: 0.2716\n",
            "Epoch 14/50\n",
            "1515/1515 [==============================] - 176s 116ms/step - loss: 3.9179 - accuracy: 0.2770\n",
            "Epoch 15/50\n",
            "1515/1515 [==============================] - 194s 128ms/step - loss: 3.8132 - accuracy: 0.2865\n",
            "Epoch 16/50\n",
            "1515/1515 [==============================] - 189s 125ms/step - loss: 3.7303 - accuracy: 0.2913\n",
            "Epoch 17/50\n",
            "1515/1515 [==============================] - 181s 120ms/step - loss: 3.6479 - accuracy: 0.2995\n",
            "Epoch 18/50\n",
            "1515/1515 [==============================] - 190s 126ms/step - loss: 3.5753 - accuracy: 0.3078\n",
            "Epoch 19/50\n",
            "1515/1515 [==============================] - 175s 116ms/step - loss: 3.5065 - accuracy: 0.3167\n",
            "Epoch 20/50\n",
            "1515/1515 [==============================] - 179s 118ms/step - loss: 3.4483 - accuracy: 0.3241\n",
            "Epoch 21/50\n",
            "1515/1515 [==============================] - 197s 130ms/step - loss: 3.3796 - accuracy: 0.3312\n",
            "Epoch 22/50\n",
            "1515/1515 [==============================] - 193s 128ms/step - loss: 3.3209 - accuracy: 0.3404\n",
            "Epoch 23/50\n",
            "1515/1515 [==============================] - 187s 123ms/step - loss: 3.2666 - accuracy: 0.3472\n",
            "Epoch 24/50\n",
            "1515/1515 [==============================] - 185s 122ms/step - loss: 3.2159 - accuracy: 0.3540\n",
            "Epoch 25/50\n",
            "1515/1515 [==============================] - 186s 123ms/step - loss: 3.1537 - accuracy: 0.3614\n",
            "Epoch 26/50\n",
            "1515/1515 [==============================] - 189s 125ms/step - loss: 3.1026 - accuracy: 0.3696\n",
            "Epoch 27/50\n",
            "1515/1515 [==============================] - 185s 122ms/step - loss: 3.0602 - accuracy: 0.3744\n",
            "Epoch 28/50\n",
            "1515/1515 [==============================] - 187s 123ms/step - loss: 3.0185 - accuracy: 0.3808\n",
            "Epoch 29/50\n",
            "1515/1515 [==============================] - 186s 123ms/step - loss: 2.9654 - accuracy: 0.3884\n",
            "Epoch 30/50\n",
            "1515/1515 [==============================] - 184s 121ms/step - loss: 2.9251 - accuracy: 0.3963\n",
            "Epoch 31/50\n",
            "1515/1515 [==============================] - 190s 125ms/step - loss: 2.8894 - accuracy: 0.3987\n",
            "Epoch 32/50\n",
            "1515/1515 [==============================] - 190s 126ms/step - loss: 2.8368 - accuracy: 0.4085\n",
            "Epoch 33/50\n",
            "1515/1515 [==============================] - 188s 124ms/step - loss: 2.7873 - accuracy: 0.4155\n",
            "Epoch 34/50\n",
            "1515/1515 [==============================] - 190s 125ms/step - loss: 2.7525 - accuracy: 0.4214\n",
            "Epoch 35/50\n",
            "1515/1515 [==============================] - 184s 122ms/step - loss: 2.7014 - accuracy: 0.4298\n",
            "Epoch 36/50\n",
            "1515/1515 [==============================] - 180s 119ms/step - loss: 2.6745 - accuracy: 0.4335\n",
            "Epoch 37/50\n",
            "1515/1515 [==============================] - 181s 120ms/step - loss: 2.6310 - accuracy: 0.4405\n",
            "Epoch 38/50\n",
            "1515/1515 [==============================] - 177s 117ms/step - loss: 2.5984 - accuracy: 0.4456\n",
            "Epoch 39/50\n",
            "1515/1515 [==============================] - 174s 115ms/step - loss: 2.5451 - accuracy: 0.4549\n",
            "Epoch 40/50\n",
            "1515/1515 [==============================] - 180s 119ms/step - loss: 2.5201 - accuracy: 0.4592\n",
            "Epoch 41/50\n",
            "1515/1515 [==============================] - 173s 114ms/step - loss: 2.4928 - accuracy: 0.4635\n",
            "Epoch 42/50\n",
            "1515/1515 [==============================] - 173s 114ms/step - loss: 2.4597 - accuracy: 0.4694\n",
            "Epoch 43/50\n",
            "1515/1515 [==============================] - 174s 115ms/step - loss: 2.4104 - accuracy: 0.4775\n",
            "Epoch 44/50\n",
            "1515/1515 [==============================] - 174s 115ms/step - loss: 2.3799 - accuracy: 0.4839\n",
            "Epoch 45/50\n",
            "1515/1515 [==============================] - 173s 114ms/step - loss: 2.3473 - accuracy: 0.4879\n",
            "Epoch 46/50\n",
            "1515/1515 [==============================] - 180s 119ms/step - loss: 2.3270 - accuracy: 0.4920\n",
            "Epoch 47/50\n",
            "1515/1515 [==============================] - 183s 121ms/step - loss: 2.2807 - accuracy: 0.5004\n",
            "Epoch 48/50\n",
            "1515/1515 [==============================] - 177s 117ms/step - loss: 2.2539 - accuracy: 0.5058\n",
            "Epoch 49/50\n",
            "1515/1515 [==============================] - 176s 116ms/step - loss: 2.2189 - accuracy: 0.5111\n",
            "Epoch 50/50\n",
            "1515/1515 [==============================] - 173s 114ms/step - loss: 2.1983 - accuracy: 0.5147\n"
          ],
          "name": "stdout"
        },
        {
          "output_type": "execute_result",
          "data": {
            "text/plain": [
              "<tensorflow.python.keras.callbacks.History at 0x7f1b9be06a10>"
            ]
          },
          "metadata": {
            "tags": []
          },
          "execution_count": 76
        }
      ]
    },
    {
      "cell_type": "code",
      "metadata": {
        "id": "mg4A0TjdvUI9"
      },
      "source": [
        "# save the model to file\n",
        "model.save('model.h5')\n",
        "# save the tokenizer\n",
        "dump(tokenizer, open('tokenizer.pkl', 'wb'))"
      ],
      "execution_count": 77,
      "outputs": []
    },
    {
      "cell_type": "code",
      "metadata": {
        "id": "jfnlah_CvZwO"
      },
      "source": [
        "# load doc into memory\n",
        "def load_doc(filename):\n",
        "\t# open the file as read only\n",
        "\tfile = open(filename, 'r')\n",
        "\t# read all text\n",
        "\ttext = file.read()\n",
        "\t# close the file\n",
        "\tfile.close()\n",
        "\treturn text\n",
        " \n",
        "# load cleaned text sequences\n",
        "in_filename = 'joke_sequences.txt'\n",
        "doc = load_doc(in_filename)\n",
        "lines = doc.split('\\n')"
      ],
      "execution_count": 78,
      "outputs": []
    },
    {
      "cell_type": "code",
      "metadata": {
        "id": "O3pyLnyCvpDn"
      },
      "source": [
        "seq_length = len(lines[0].split()) - 1"
      ],
      "execution_count": 79,
      "outputs": []
    },
    {
      "cell_type": "code",
      "metadata": {
        "id": "EQhemwy4v1cc"
      },
      "source": [
        "from random import randint\n",
        "from pickle import load\n",
        "from keras.models import load_model\n",
        "from keras.preprocessing.sequence import pad_sequences"
      ],
      "execution_count": 80,
      "outputs": []
    },
    {
      "cell_type": "code",
      "metadata": {
        "id": "2rzFrZ70vrww"
      },
      "source": [
        "# load the model\n",
        "model = load_model('model.h5')"
      ],
      "execution_count": 81,
      "outputs": []
    },
    {
      "cell_type": "code",
      "metadata": {
        "id": "-K_26sYCv_pg"
      },
      "source": [
        "# load the tokenizer\n",
        "tokenizer = load(open('tokenizer.pkl', 'rb'))"
      ],
      "execution_count": 82,
      "outputs": []
    },
    {
      "cell_type": "code",
      "metadata": {
        "colab": {
          "base_uri": "https://localhost:8080/"
        },
        "id": "-c-dxPsZwCio",
        "outputId": "c0e79a27-b856-4998-e6d7-c4c0701004f9"
      },
      "source": [
        "# select a seed text\n",
        "#seed_text = lines[randint(0,len(lines))]\n",
        "seed_text = \"sos i like my coffee like i like my women\"\n",
        "print(seed_text + '\\n')"
      ],
      "execution_count": 195,
      "outputs": [
        {
          "output_type": "stream",
          "text": [
            "sos i like my coffee like i like my women\n",
            "\n"
          ],
          "name": "stdout"
        }
      ]
    },
    {
      "cell_type": "code",
      "metadata": {
        "id": "j2FV6TGPwXv-"
      },
      "source": [
        "encoded = tokenizer.texts_to_sequences([seed_text])[0]"
      ],
      "execution_count": 196,
      "outputs": []
    },
    {
      "cell_type": "code",
      "metadata": {
        "colab": {
          "base_uri": "https://localhost:8080/"
        },
        "id": "Vy4sh4b5wlBd",
        "outputId": "7a58f5ba-659b-45a7-e8f2-b77d58d6f78c"
      },
      "source": [
        "# predict probabilities for each word\n",
        "yhat = model.predict_classes(encoded, verbose=0)"
      ],
      "execution_count": 197,
      "outputs": [
        {
          "output_type": "stream",
          "text": [
            "/usr/local/lib/python3.7/dist-packages/tensorflow/python/keras/engine/sequential.py:450: UserWarning: `model.predict_classes()` is deprecated and will be removed after 2021-01-01. Please use instead:* `np.argmax(model.predict(x), axis=-1)`,   if your model does multi-class classification   (e.g. if it uses a `softmax` last-layer activation).* `(model.predict(x) > 0.5).astype(\"int32\")`,   if your model does binary classification   (e.g. if it uses a `sigmoid` last-layer activation).\n",
            "  warnings.warn('`model.predict_classes()` is deprecated and '\n"
          ],
          "name": "stderr"
        }
      ]
    },
    {
      "cell_type": "code",
      "metadata": {
        "id": "yr28KPSYwo6Y"
      },
      "source": [
        "out_word = ''\n",
        "for word, index in tokenizer.word_index.items():\n",
        "\tif index == yhat.any():\n",
        "\t\tout_word = word\n",
        "\t\tbreak"
      ],
      "execution_count": 198,
      "outputs": []
    },
    {
      "cell_type": "code",
      "metadata": {
        "id": "lI0czXK8w5oT"
      },
      "source": [
        "encoded = pad_sequences([encoded], maxlen=seq_length, truncating='pre')"
      ],
      "execution_count": 199,
      "outputs": []
    },
    {
      "cell_type": "code",
      "metadata": {
        "id": "aEl9ygguw8nh"
      },
      "source": [
        "# generate a sequence from a language model\n",
        "def generate_seq(model, tokenizer, seq_length, seed_text, n_words):\n",
        "\tresult = list()\n",
        "\tin_text = seed_text\n",
        "\t# generate a fixed number of words\n",
        "\tfor _ in range(n_words):\n",
        "\t\t# encode the text as integer\n",
        "\t\tencoded = tokenizer.texts_to_sequences([in_text])[0]\n",
        "\t\t# truncate sequences to a fixed length\n",
        "\t\tencoded = pad_sequences([encoded], maxlen=seq_length, truncating='pre')\n",
        "\t\t# predict probabilities for each word\n",
        "\t\tyhat = model.predict_classes(encoded, verbose=0)\n",
        "\t\t# map predicted word index to word\n",
        "\t\tout_word = ''\n",
        "\t\tfor word, index in tokenizer.word_index.items():\n",
        "\t\t\tif index == yhat:\n",
        "\t\t\t\tout_word = word\n",
        "\t\t\t\tbreak\n",
        "\t\t# append to input\n",
        "\t\tin_text += ' ' + out_word\n",
        "\t\tresult.append(out_word)\n",
        "\treturn ' '.join(result)"
      ],
      "execution_count": 200,
      "outputs": []
    },
    {
      "cell_type": "code",
      "metadata": {
        "colab": {
          "base_uri": "https://localhost:8080/"
        },
        "id": "6CibocmdxAcU",
        "outputId": "e04a32f7-ccc8-4467-a1ab-0ab95fa9d345"
      },
      "source": [
        "# generate new text\n",
        "generated = generate_seq(model, tokenizer, seq_length, seed_text, 50)\n",
        "print(generated)"
      ],
      "execution_count": 201,
      "outputs": [
        {
          "output_type": "stream",
          "text": [
            "/usr/local/lib/python3.7/dist-packages/tensorflow/python/keras/engine/sequential.py:450: UserWarning: `model.predict_classes()` is deprecated and will be removed after 2021-01-01. Please use instead:* `np.argmax(model.predict(x), axis=-1)`,   if your model does multi-class classification   (e.g. if it uses a `softmax` last-layer activation).* `(model.predict(x) > 0.5).astype(\"int32\")`,   if your model does binary classification   (e.g. if it uses a `sigmoid` last-layer activation).\n",
            "  warnings.warn('`model.predict_classes()` is deprecated and '\n"
          ],
          "name": "stderr"
        },
        {
          "output_type": "stream",
          "text": [
            "ground up the door hol the face eos sos what did the leper say to the prostitute who flipped him off eos sos what do you call a group of elephants a cash a furtographer eos sos did you hear about the guy who went to his daughter hair he\n"
          ],
          "name": "stdout"
        }
      ]
    },
    {
      "cell_type": "code",
      "metadata": {
        "colab": {
          "base_uri": "https://localhost:8080/"
        },
        "id": "TZJP2dz-xLr2",
        "outputId": "1bb5d943-bb0b-4341-a2c8-dcf240b08aa1"
      },
      "source": [
        "print(seed_text)\n",
        "print(generated)"
      ],
      "execution_count": 202,
      "outputs": [
        {
          "output_type": "stream",
          "text": [
            "sos i like my coffee like i like my women\n",
            "ground up the door hol the face eos sos what did the leper say to the prostitute who flipped him off eos sos what do you call a group of elephants a cash a furtographer eos sos did you hear about the guy who went to his daughter hair he\n"
          ],
          "name": "stdout"
        }
      ]
    },
    {
      "cell_type": "code",
      "metadata": {
        "colab": {
          "base_uri": "https://localhost:8080/",
          "height": 17
        },
        "id": "PYMepoY4mDvX",
        "outputId": "86ec9ac6-2d4d-41b8-8e87-168339139da0"
      },
      "source": [
        "from google.colab import files\n",
        "files.download('model.h5')"
      ],
      "execution_count": 203,
      "outputs": [
        {
          "output_type": "display_data",
          "data": {
            "application/javascript": [
              "\n",
              "    async function download(id, filename, size) {\n",
              "      if (!google.colab.kernel.accessAllowed) {\n",
              "        return;\n",
              "      }\n",
              "      const div = document.createElement('div');\n",
              "      const label = document.createElement('label');\n",
              "      label.textContent = `Downloading \"${filename}\": `;\n",
              "      div.appendChild(label);\n",
              "      const progress = document.createElement('progress');\n",
              "      progress.max = size;\n",
              "      div.appendChild(progress);\n",
              "      document.body.appendChild(div);\n",
              "\n",
              "      const buffers = [];\n",
              "      let downloaded = 0;\n",
              "\n",
              "      const channel = await google.colab.kernel.comms.open(id);\n",
              "      // Send a message to notify the kernel that we're ready.\n",
              "      channel.send({})\n",
              "\n",
              "      for await (const message of channel.messages) {\n",
              "        // Send a message to notify the kernel that we're ready.\n",
              "        channel.send({})\n",
              "        if (message.buffers) {\n",
              "          for (const buffer of message.buffers) {\n",
              "            buffers.push(buffer);\n",
              "            downloaded += buffer.byteLength;\n",
              "            progress.value = downloaded;\n",
              "          }\n",
              "        }\n",
              "      }\n",
              "      const blob = new Blob(buffers, {type: 'application/binary'});\n",
              "      const a = document.createElement('a');\n",
              "      a.href = window.URL.createObjectURL(blob);\n",
              "      a.download = filename;\n",
              "      div.appendChild(a);\n",
              "      a.click();\n",
              "      div.remove();\n",
              "    }\n",
              "  "
            ],
            "text/plain": [
              "<IPython.core.display.Javascript object>"
            ]
          },
          "metadata": {
            "tags": []
          }
        },
        {
          "output_type": "display_data",
          "data": {
            "application/javascript": [
              "download(\"download_fb283ab8-ae4a-4c19-83b0-c37e85cedb82\", \"model.h5\", 28513804)"
            ],
            "text/plain": [
              "<IPython.core.display.Javascript object>"
            ]
          },
          "metadata": {
            "tags": []
          }
        }
      ]
    }
  ]
}