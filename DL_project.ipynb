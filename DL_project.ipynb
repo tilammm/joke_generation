{
  "nbformat": 4,
  "nbformat_minor": 0,
  "metadata": {
    "colab": {
      "name": "DL project.ipynb",
      "provenance": [],
      "collapsed_sections": []
    },
    "kernelspec": {
      "name": "python3",
      "display_name": "Python 3"
    }
  },
  "cells": [
    {
      "cell_type": "code",
      "metadata": {
        "id": "E7SxiMiDMxIR"
      },
      "source": [
        "import json"
      ],
      "execution_count": 3,
      "outputs": []
    },
    {
      "cell_type": "code",
      "metadata": {
        "id": "rLRQNLncNG5H"
      },
      "source": [
        "jokes = []\r\n",
        "with open(\"dataset/reddit_jokes.json\", \"r\") as read_file:\r\n",
        "    data = json.load(read_file)\r\n",
        "    for i in range(len(data)):\r\n",
        "        jokes.append({ \"body\": data[i]['title'] + '\\n' + data[i]['body'], 'score': data[i]['score'], 'id': data[i]['id']}) \r\n"
      ],
      "execution_count": 25,
      "outputs": []
    },
    {
      "cell_type": "code",
      "metadata": {
        "colab": {
          "base_uri": "https://localhost:8080/"
        },
        "id": "oPUEtmofPPbi",
        "outputId": "330acddb-485d-4e7e-9c02-1983c2fb3099"
      },
      "source": [
        "print(jokes[0])"
      ],
      "execution_count": 31,
      "outputs": [
        {
          "output_type": "stream",
          "text": [
            "{'body': 'I hate how you cant even say black paint anymore\\nNow I have to say \"Leroy can you please paint the fence?\"', 'score': 1, 'id': '5tz52q'}\n"
          ],
          "name": "stdout"
        }
      ]
    },
    {
      "cell_type": "code",
      "metadata": {
        "colab": {
          "base_uri": "https://localhost:8080/"
        },
        "id": "01SehKcRP5lg",
        "outputId": "bc1222c8-c774-47c1-b552-6dbf734253e9"
      },
      "source": [
        "print(jokes[0]['body'])"
      ],
      "execution_count": 33,
      "outputs": [
        {
          "output_type": "stream",
          "text": [
            "I hate how you cant even say black paint anymore\n",
            "Now I have to say \"Leroy can you please paint the fence?\"\n"
          ],
          "name": "stdout"
        }
      ]
    },
    {
      "cell_type": "code",
      "metadata": {
        "id": "2ILYUmrRQDTE"
      },
      "source": [
        "with open(\"dataset/reddit_fixed.json\", \"w\") as f:\r\n",
        "        json.dump(jokes, f, indent=4, sort_keys=True)"
      ],
      "execution_count": 34,
      "outputs": []
    }
  ]
}