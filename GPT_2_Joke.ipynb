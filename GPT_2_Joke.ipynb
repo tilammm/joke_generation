{
  "nbformat": 4,
  "nbformat_minor": 0,
  "metadata": {
    "colab": {
      "name": "GPT-2 Joke.ipynb",
      "provenance": []
    },
    "kernelspec": {
      "name": "python3",
      "display_name": "Python 3"
    },
    "accelerator": "GPU",
    "widgets": {
      "application/vnd.jupyter.widget-state+json": {
        "5e076b66ade048faac4ddb2bab144212": {
          "model_module": "@jupyter-widgets/controls",
          "model_name": "HBoxModel",
          "state": {
            "_view_name": "HBoxView",
            "_dom_classes": [],
            "_model_name": "HBoxModel",
            "_view_module": "@jupyter-widgets/controls",
            "_model_module_version": "1.5.0",
            "_view_count": null,
            "_view_module_version": "1.5.0",
            "box_style": "",
            "layout": "IPY_MODEL_aa18227f428a45d58390a184410c4ad3",
            "_model_module": "@jupyter-widgets/controls",
            "children": [
              "IPY_MODEL_6fcc3b30768644d0a9db6e8c919a3081",
              "IPY_MODEL_e0bb8390ec0d46ffbe2e3b2e75c74469"
            ]
          }
        },
        "aa18227f428a45d58390a184410c4ad3": {
          "model_module": "@jupyter-widgets/base",
          "model_name": "LayoutModel",
          "state": {
            "_view_name": "LayoutView",
            "grid_template_rows": null,
            "right": null,
            "justify_content": null,
            "_view_module": "@jupyter-widgets/base",
            "overflow": null,
            "_model_module_version": "1.2.0",
            "_view_count": null,
            "flex_flow": null,
            "width": null,
            "min_width": null,
            "border": null,
            "align_items": null,
            "bottom": null,
            "_model_module": "@jupyter-widgets/base",
            "top": null,
            "grid_column": null,
            "overflow_y": null,
            "overflow_x": null,
            "grid_auto_flow": null,
            "grid_area": null,
            "grid_template_columns": null,
            "flex": null,
            "_model_name": "LayoutModel",
            "justify_items": null,
            "grid_row": null,
            "max_height": null,
            "align_content": null,
            "visibility": null,
            "align_self": null,
            "height": null,
            "min_height": null,
            "padding": null,
            "grid_auto_rows": null,
            "grid_gap": null,
            "max_width": null,
            "order": null,
            "_view_module_version": "1.2.0",
            "grid_template_areas": null,
            "object_position": null,
            "object_fit": null,
            "grid_auto_columns": null,
            "margin": null,
            "display": null,
            "left": null
          }
        },
        "6fcc3b30768644d0a9db6e8c919a3081": {
          "model_module": "@jupyter-widgets/controls",
          "model_name": "FloatProgressModel",
          "state": {
            "_view_name": "ProgressView",
            "style": "IPY_MODEL_4a8909e348874522aaf04b19ede120e4",
            "_dom_classes": [],
            "description": "  0%",
            "_model_name": "FloatProgressModel",
            "bar_style": "",
            "max": 194553,
            "_view_module": "@jupyter-widgets/controls",
            "_model_module_version": "1.5.0",
            "value": 335,
            "_view_count": null,
            "_view_module_version": "1.5.0",
            "orientation": "horizontal",
            "min": 0,
            "description_tooltip": null,
            "_model_module": "@jupyter-widgets/controls",
            "layout": "IPY_MODEL_8afcdbe897904b4299dfa51adae17973"
          }
        },
        "e0bb8390ec0d46ffbe2e3b2e75c74469": {
          "model_module": "@jupyter-widgets/controls",
          "model_name": "HTMLModel",
          "state": {
            "_view_name": "HTMLView",
            "style": "IPY_MODEL_91450d656e754b3b8df906c4c5b24551",
            "_dom_classes": [],
            "description": "",
            "_model_name": "HTMLModel",
            "placeholder": "​",
            "_view_module": "@jupyter-widgets/controls",
            "_model_module_version": "1.5.0",
            "value": " 335/194553 [01:14&lt;13:05:57,  4.12it/s]",
            "_view_count": null,
            "_view_module_version": "1.5.0",
            "description_tooltip": null,
            "_model_module": "@jupyter-widgets/controls",
            "layout": "IPY_MODEL_a4691968c7744f9e932ce2278c1de4e9"
          }
        },
        "4a8909e348874522aaf04b19ede120e4": {
          "model_module": "@jupyter-widgets/controls",
          "model_name": "ProgressStyleModel",
          "state": {
            "_view_name": "StyleView",
            "_model_name": "ProgressStyleModel",
            "description_width": "initial",
            "_view_module": "@jupyter-widgets/base",
            "_model_module_version": "1.5.0",
            "_view_count": null,
            "_view_module_version": "1.2.0",
            "bar_color": null,
            "_model_module": "@jupyter-widgets/controls"
          }
        },
        "8afcdbe897904b4299dfa51adae17973": {
          "model_module": "@jupyter-widgets/base",
          "model_name": "LayoutModel",
          "state": {
            "_view_name": "LayoutView",
            "grid_template_rows": null,
            "right": null,
            "justify_content": null,
            "_view_module": "@jupyter-widgets/base",
            "overflow": null,
            "_model_module_version": "1.2.0",
            "_view_count": null,
            "flex_flow": null,
            "width": null,
            "min_width": null,
            "border": null,
            "align_items": null,
            "bottom": null,
            "_model_module": "@jupyter-widgets/base",
            "top": null,
            "grid_column": null,
            "overflow_y": null,
            "overflow_x": null,
            "grid_auto_flow": null,
            "grid_area": null,
            "grid_template_columns": null,
            "flex": null,
            "_model_name": "LayoutModel",
            "justify_items": null,
            "grid_row": null,
            "max_height": null,
            "align_content": null,
            "visibility": null,
            "align_self": null,
            "height": null,
            "min_height": null,
            "padding": null,
            "grid_auto_rows": null,
            "grid_gap": null,
            "max_width": null,
            "order": null,
            "_view_module_version": "1.2.0",
            "grid_template_areas": null,
            "object_position": null,
            "object_fit": null,
            "grid_auto_columns": null,
            "margin": null,
            "display": null,
            "left": null
          }
        },
        "91450d656e754b3b8df906c4c5b24551": {
          "model_module": "@jupyter-widgets/controls",
          "model_name": "DescriptionStyleModel",
          "state": {
            "_view_name": "StyleView",
            "_model_name": "DescriptionStyleModel",
            "description_width": "",
            "_view_module": "@jupyter-widgets/base",
            "_model_module_version": "1.5.0",
            "_view_count": null,
            "_view_module_version": "1.2.0",
            "_model_module": "@jupyter-widgets/controls"
          }
        },
        "a4691968c7744f9e932ce2278c1de4e9": {
          "model_module": "@jupyter-widgets/base",
          "model_name": "LayoutModel",
          "state": {
            "_view_name": "LayoutView",
            "grid_template_rows": null,
            "right": null,
            "justify_content": null,
            "_view_module": "@jupyter-widgets/base",
            "overflow": null,
            "_model_module_version": "1.2.0",
            "_view_count": null,
            "flex_flow": null,
            "width": null,
            "min_width": null,
            "border": null,
            "align_items": null,
            "bottom": null,
            "_model_module": "@jupyter-widgets/base",
            "top": null,
            "grid_column": null,
            "overflow_y": null,
            "overflow_x": null,
            "grid_auto_flow": null,
            "grid_area": null,
            "grid_template_columns": null,
            "flex": null,
            "_model_name": "LayoutModel",
            "justify_items": null,
            "grid_row": null,
            "max_height": null,
            "align_content": null,
            "visibility": null,
            "align_self": null,
            "height": null,
            "min_height": null,
            "padding": null,
            "grid_auto_rows": null,
            "grid_gap": null,
            "max_width": null,
            "order": null,
            "_view_module_version": "1.2.0",
            "grid_template_areas": null,
            "object_position": null,
            "object_fit": null,
            "grid_auto_columns": null,
            "margin": null,
            "display": null,
            "left": null
          }
        }
      }
    }
  },
  "cells": [
    {
      "cell_type": "code",
      "metadata": {
        "id": "auI_soU-4IX2"
      },
      "source": [
        "import json\r\n",
        "import os\r\n",
        "\r\n",
        "import torch\r\n",
        "import torch.nn as nn\r\n",
        "import torch.optim as optim\r\n",
        "from torch.optim import lr_scheduler\r\n",
        "from torch.utils.data import Dataset, DataLoader\r\n",
        "from torch.nn import functional as F\r\n",
        "\r\n",
        "from transformers import GPT2Tokenizer, GPT2LMHeadModel\r\n",
        "from transformers import AdamW,  get_linear_schedule_with_warmup\r\n",
        "\r\n",
        "import numpy as np\r\n",
        "from tqdm.notebook import tqdm"
      ],
      "execution_count": 2,
      "outputs": []
    },
    {
      "cell_type": "code",
      "metadata": {
        "colab": {
          "base_uri": "https://localhost:8080/"
        },
        "id": "pvn6wYK95VkI",
        "outputId": "f914520f-c1f5-4251-aec0-27a4d90c8d3c"
      },
      "source": [
        "device = torch.device(\"cuda\" if torch.cuda.is_available() else \"cpu\")\r\n",
        "device"
      ],
      "execution_count": 3,
      "outputs": [
        {
          "output_type": "execute_result",
          "data": {
            "text/plain": [
              "device(type='cuda')"
            ]
          },
          "metadata": {
            "tags": []
          },
          "execution_count": 3
        }
      ]
    },
    {
      "cell_type": "markdown",
      "metadata": {
        "id": "Foak3cOU5wE8"
      },
      "source": [
        "# Dataset"
      ]
    },
    {
      "cell_type": "code",
      "metadata": {
        "id": "JXC_lLNB4Mbi"
      },
      "source": [
        "with open(\"dataset/reddit_fixed.json\", \"r\") as read_file:\r\n",
        "    jokes = json.load(read_file)"
      ],
      "execution_count": 4,
      "outputs": []
    },
    {
      "cell_type": "code",
      "metadata": {
        "id": "cZZbGXZD6u9A"
      },
      "source": [
        "for joke in jokes:\r\n",
        "    joke['body'] = \"<SOS>{0}<EOS>\".format(joke['body'])"
      ],
      "execution_count": 5,
      "outputs": []
    },
    {
      "cell_type": "code",
      "metadata": {
        "colab": {
          "base_uri": "https://localhost:8080/"
        },
        "id": "wJf-MNUX4SXM",
        "outputId": "55184cbf-8913-4783-e8c5-15e40c0cce20"
      },
      "source": [
        "print(jokes[0])"
      ],
      "execution_count": 6,
      "outputs": [
        {
          "output_type": "stream",
          "text": [
            "{'body': '<SOS>I hate how you cant even say black paint anymore\\nNow I have to say \"Leroy can you please paint the fence?\"<EOS>', 'id': '5tz52q', 'score': 1}\n"
          ],
          "name": "stdout"
        }
      ]
    },
    {
      "cell_type": "code",
      "metadata": {
        "id": "n87dpY5W53b2"
      },
      "source": [
        "class JokesDataset(Dataset):\r\n",
        "    def __init__(self, jokes):\r\n",
        "\r\n",
        "        self.jokes = jokes\r\n",
        "        \r\n",
        "    def __len__(self):\r\n",
        "        return len(self.jokes)\r\n",
        "\r\n",
        "    def __getitem__(self, idx):\r\n",
        "        return self.jokes[idx]['body'], self.jokes[idx]['score']"
      ],
      "execution_count": 7,
      "outputs": []
    },
    {
      "cell_type": "code",
      "metadata": {
        "id": "dxauWBrt68BW"
      },
      "source": [
        "dataset = JokesDataset(jokes)\r\n",
        "data_loader = DataLoader(dataset, batch_size=1, shuffle=True)"
      ],
      "execution_count": 8,
      "outputs": []
    },
    {
      "cell_type": "markdown",
      "metadata": {
        "id": "fLEEhDvk7O8L"
      },
      "source": [
        "#Training"
      ]
    },
    {
      "cell_type": "code",
      "metadata": {
        "id": "p8VEqSSD7SC6"
      },
      "source": [
        "tokenizer = GPT2Tokenizer.from_pretrained('gpt2-medium')\r\n",
        "tokenizer.pad_token = tokenizer.eos_token\r\n",
        "\r\n",
        "model = GPT2LMHeadModel.from_pretrained('gpt2-medium')\r\n",
        "model = model.to(device)\r\n",
        "model.train()\r\n",
        "\r\n",
        "optimizer = AdamW(model.parameters(), lr=1e-4)\r\n",
        "scheduler = get_linear_schedule_with_warmup(optimizer, num_warmup_steps=10000, num_training_steps = -1)\r\n"
      ],
      "execution_count": 9,
      "outputs": []
    },
    {
      "cell_type": "code",
      "metadata": {
        "colab": {
          "base_uri": "https://localhost:8080/",
          "height": 48,
          "referenced_widgets": [
            "5e076b66ade048faac4ddb2bab144212",
            "aa18227f428a45d58390a184410c4ad3",
            "6fcc3b30768644d0a9db6e8c919a3081",
            "e0bb8390ec0d46ffbe2e3b2e75c74469",
            "4a8909e348874522aaf04b19ede120e4",
            "8afcdbe897904b4299dfa51adae17973",
            "91450d656e754b3b8df906c4c5b24551",
            "a4691968c7744f9e932ce2278c1de4e9"
          ]
        },
        "id": "ghhLQ5jq8yfD",
        "outputId": "c8d16b67-ee80-41e4-b98c-a0c0ee9d1d6c"
      },
      "source": [
        "for epoch in range(100):\r\n",
        "    epoch_loss = 0\r\n",
        "    for jokes, scores in tqdm(data_loader):\r\n",
        "        encoding = tokenizer(jokes, return_tensors='pt', padding=True, truncation=True)\r\n",
        "        input_ids = encoding['input_ids'].to(device)\r\n",
        "        attention_mask = encoding['attention_mask'].to(device)\r\n",
        "        labels = scores.unsqueeze(0).to(device)\r\n",
        "        outputs = model(input_ids, attention_mask=attention_mask, labels=input_ids)\r\n",
        "\r\n",
        "        loss = outputs.loss\r\n",
        "        loss.backward()\r\n",
        "        optimizer.step()\r\n",
        "        scheduler.step() \r\n",
        "        optimizer.zero_grad()\r\n",
        "        model.zero_grad()\r\n",
        "        epoch_loss += loss.detach().data\r\n",
        "    print(f'Average loss:{epoch_loss/len(data_loader)}')"
      ],
      "execution_count": null,
      "outputs": [
        {
          "output_type": "display_data",
          "data": {
            "application/vnd.jupyter.widget-view+json": {
              "model_id": "5e076b66ade048faac4ddb2bab144212",
              "version_minor": 0,
              "version_major": 2
            },
            "text/plain": [
              "HBox(children=(FloatProgress(value=0.0, max=194553.0), HTML(value='')))"
            ]
          },
          "metadata": {
            "tags": []
          }
        }
      ]
    }
  ]
}